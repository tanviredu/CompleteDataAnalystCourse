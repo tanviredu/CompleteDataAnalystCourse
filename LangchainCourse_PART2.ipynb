{
  "nbformat": 4,
  "nbformat_minor": 0,
  "metadata": {
    "colab": {
      "provenance": [],
      "authorship_tag": "ABX9TyPGNFjSm1/axXte9f1EP1b8",
      "include_colab_link": true
    },
    "kernelspec": {
      "name": "python3",
      "display_name": "Python 3"
    },
    "language_info": {
      "name": "python"
    }
  },
  "cells": [
    {
      "cell_type": "markdown",
      "metadata": {
        "id": "view-in-github",
        "colab_type": "text"
      },
      "source": [
        "<a href=\"https://colab.research.google.com/github/tanviredu/CompleteDataAnalystCourse/blob/main/LangchainCourse_PART2.ipynb\" target=\"_parent\"><img src=\"https://colab.research.google.com/assets/colab-badge.svg\" alt=\"Open In Colab\"/></a>"
      ]
    },
    {
      "cell_type": "code",
      "execution_count": 5,
      "metadata": {
        "id": "seYB5WKRJBv9"
      },
      "outputs": [],
      "source": [
        "from google.colab import output\n",
        "!pip install langchain\n",
        "!pip install langchain-community\n",
        "!pip install faiss-cpu\n",
        "!pip install langchain_ollama\n",
        "output.clear()"
      ]
    },
    {
      "cell_type": "code",
      "source": [
        "!curl -fsSL https://ollama.com/install.sh | sh\n",
        "!ollama serve > /dev/null 2>&1 &\n",
        "!curl http://localhost:11434/api/version\n",
        "!ollama pull llama2\n",
        "output.clear()"
      ],
      "metadata": {
        "id": "AuptII0UKDMD"
      },
      "execution_count": 2,
      "outputs": []
    },
    {
      "cell_type": "code",
      "source": [
        "# Import required libraries\n",
        "import os\n",
        "from langchain.text_splitter import CharacterTextSplitter\n",
        "from langchain.document_loaders import TextLoader\n",
        "from langchain.vectorstores import FAISS\n",
        "from langchain.chains import RetrievalQA"
      ],
      "metadata": {
        "id": "AOKM7cIFKOxn"
      },
      "execution_count": 3,
      "outputs": []
    },
    {
      "cell_type": "code",
      "source": [
        "from langchain_ollama import OllamaLLM\n",
        "llm = OllamaLLM(model=\"llama2\")"
      ],
      "metadata": {
        "id": "urK6qRDXKrvT"
      },
      "execution_count": 6,
      "outputs": []
    },
    {
      "cell_type": "code",
      "source": [
        "!wget https://raw.githubusercontent.com/tanviredu/Mastering-LangChain/refs/heads/main/0-Data/paul_graham_short.txt\n",
        "output.clear()"
      ],
      "metadata": {
        "id": "n5LsE9ccK-k-"
      },
      "execution_count": 7,
      "outputs": []
    },
    {
      "cell_type": "code",
      "source": [
        "# Load the text file\n",
        "file_path = \"paul_graham_short.txt\"  # Replace with your text file path\n",
        "loader = TextLoader(file_path)\n",
        "documents = loader.load()\n",
        "print(documents[0])  # Display the first document to verify loading"
      ],
      "metadata": {
        "colab": {
          "base_uri": "https://localhost:8080/"
        },
        "id": "CWHwM4sFKxGY",
        "outputId": "47603d5d-3c64-483b-e674-90178838207d"
      },
      "execution_count": 8,
      "outputs": [
        {
          "output_type": "stream",
          "name": "stdout",
          "text": [
            "page_content='My Name is Tanvir Rahman. My age is 30. I studied in Chittagong University of Engineering and Technology. In short form it is called CUET. I live in Chittagong.\n",
            "' metadata={'source': 'paul_graham_short.txt'}\n"
          ]
        }
      ]
    },
    {
      "cell_type": "code",
      "source": [
        "text_splitter = CharacterTextSplitter(chunk_size=10, chunk_overlap=2)\n",
        "split_docs = text_splitter.split_documents(documents)"
      ],
      "metadata": {
        "id": "t0FwqWcsLEok"
      },
      "execution_count": 9,
      "outputs": []
    },
    {
      "cell_type": "code",
      "source": [
        "from langchain_ollama import OllamaEmbeddings\n",
        "\n",
        "embeddings = OllamaEmbeddings(\n",
        "    model=\"llama2\",\n",
        ")"
      ],
      "metadata": {
        "id": "TWAtqMpwLP5e"
      },
      "execution_count": 10,
      "outputs": []
    },
    {
      "cell_type": "code",
      "source": [
        "from langchain_core.vectorstores import InMemoryVectorStore\n",
        "\n",
        "vectorstore = InMemoryVectorStore.from_documents(\n",
        "    split_docs,\n",
        "    embedding=embeddings,\n",
        ")"
      ],
      "metadata": {
        "id": "IdS2UJ_zLc_5"
      },
      "execution_count": 12,
      "outputs": []
    },
    {
      "cell_type": "code",
      "source": [
        "retriever = vectorstore.as_retriever()\n",
        "qa_chain = RetrievalQA.from_chain_type(\n",
        "    llm=llm,\n",
        "    retriever=retriever\n",
        ")"
      ],
      "metadata": {
        "id": "cqy8LMEmLiuM"
      },
      "execution_count": 15,
      "outputs": []
    },
    {
      "cell_type": "code",
      "source": [
        "# Replace the question with the one you want to ask.\n",
        "query = \"Just give me the institution name where Tanvir studied. nothing else. Just the Name of the institution\"\n",
        "print(f\"\\nQuestion: {query}\")\n",
        "\n",
        "# Retrieve and answer the query\n",
        "result = qa_chain.invoke({\"query\": query})\n",
        "print(\"\\nAnswer:\")\n",
        "print(result[\"result\"])"
      ],
      "metadata": {
        "colab": {
          "base_uri": "https://localhost:8080/"
        },
        "id": "c1EVA0SEL5OU",
        "outputId": "06fe5931-3d35-4053-f463-770934a528ba"
      },
      "execution_count": 16,
      "outputs": [
        {
          "output_type": "stream",
          "name": "stdout",
          "text": [
            "\n",
            "Question: Just give me the institution name where Tanvir studied. nothing else. Just the Name of the institution\n",
            "\n",
            "Answer:\n",
            "Sure, based on the information provided, the institution where Tanvir studied is:\n",
            "\n",
            "Chittagong University of Engineering and Technology (CUET)\n"
          ]
        }
      ]
    },
    {
      "cell_type": "code",
      "source": [],
      "metadata": {
        "id": "21cihtJ2L6k5"
      },
      "execution_count": null,
      "outputs": []
    }
  ]
}