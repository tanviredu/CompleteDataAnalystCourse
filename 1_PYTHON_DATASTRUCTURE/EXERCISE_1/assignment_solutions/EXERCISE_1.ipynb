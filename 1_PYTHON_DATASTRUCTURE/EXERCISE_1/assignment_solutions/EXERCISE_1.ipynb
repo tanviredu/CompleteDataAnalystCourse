{
  "nbformat": 4,
  "nbformat_minor": 0,
  "metadata": {
    "colab": {
      "provenance": []
    },
    "kernelspec": {
      "name": "python3",
      "display_name": "Python 3"
    },
    "language_info": {
      "name": "python"
    }
  },
  "cells": [
    {
      "cell_type": "code",
      "execution_count": 6,
      "metadata": {
        "colab": {
          "base_uri": "https://localhost:8080/"
        },
        "id": "OOqmg0WLo0kf",
        "outputId": "f8120408-b5db-407a-be4b-7f0165f4750f"
      },
      "outputs": [
        {
          "output_type": "stream",
          "name": "stdout",
          "text": [
            "Enter number:\n",
            "=>\n",
            "-1\n",
            "Number is negative\n"
          ]
        }
      ],
      "source": [
        "def is_pos(number):\n",
        "    if number > 0:\n",
        "        print(\"Number is positive\")\n",
        "    elif number == 0:\n",
        "        print(\"Number is zero\")\n",
        "    else:\n",
        "        print(\"Number is negative\")\n",
        "\n",
        "def main():\n",
        "    print(\"Enter number:\\n=>\")\n",
        "    num = int(input())\n",
        "    is_pos(num)\n",
        "main()\n",
        ""
      ]
    },
    {
      "cell_type": "code",
      "source": [
        "def find_positive_negative(number):\n",
        "  if number > 0:\n",
        "    return 1\n",
        "  elif number < 0:\n",
        "    return -1\n",
        "  else:\n",
        "    return 0\n",
        "\n",
        "  pass\n",
        "\n",
        "def find_even_odd(number):\n",
        "  if number % 2 == 0 :\n",
        "    return 1\n",
        "  else:\n",
        "    return 0\n",
        "\n",
        "\n",
        "def main():\n",
        "  print(\"Enter number\\n=>\")\n",
        "  num = int(input())\n",
        "  pos_neg = find_positive_negative(num)\n",
        "  odd_ev  = find_even_odd(num)\n",
        "\n",
        "  if pos_neg == -1:\n",
        "    print(\"Negative\")\n",
        "  elif pos_neg == 1 and odd_ev == 1:\n",
        "    print(\"positive & even\")\n",
        "\n",
        "  elif pos_neg == 1 and odd_ev == 0:\n",
        "    print(\"positive & odd\")\n",
        "\n",
        "  elif pos_neg == 0:\n",
        "    print(\"Zero\")\n",
        "\n",
        "main()\n",
        "\n",
        ""
      ],
      "metadata": {
        "colab": {
          "base_uri": "https://localhost:8080/"
        },
        "id": "jYLTa7qro1WY",
        "outputId": "8248dee3-a245-4a07-e5e2-a8679f6dce92"
      },
      "execution_count": 12,
      "outputs": [
        {
          "output_type": "stream",
          "name": "stdout",
          "text": [
            "Enter number\n",
            "=>\n",
            "0\n",
            "Zero\n"
          ]
        }
      ]
    },
    {
      "cell_type": "code",
      "source": [
        "def five_five_grd():\n",
        "  for x in range(5):\n",
        "    for y in range(5):\n",
        "      print(\"*\",end=\" \")\n",
        "    print()\n",
        "five_five_grd()"
      ],
      "metadata": {
        "colab": {
          "base_uri": "https://localhost:8080/"
        },
        "id": "5anlx3werCuW",
        "outputId": "db247f79-552e-40a2-ee0e-6cfda0425d1e"
      },
      "execution_count": 20,
      "outputs": [
        {
          "output_type": "stream",
          "name": "stdout",
          "text": [
            "* * * * * \n",
            "* * * * * \n",
            "* * * * * \n",
            "* * * * * \n",
            "* * * * * \n"
          ]
        }
      ]
    },
    {
      "cell_type": "code",
      "source": [
        "def input_brk():\n",
        "  try:\n",
        "    numlst = []\n",
        "    while True:\n",
        "      print(\"Enter any number, 0 to stop\")\n",
        "      number = int(input())\n",
        "      if number == 0:\n",
        "        result = sum(numlst)\n",
        "        print(\"Sum : {}\".format(result))\n",
        "        break\n",
        "      numlst.append(number)\n",
        "  except:\n",
        "    print(\"Enter only number\")\n",
        "input_brk()\n",
        "\n",
        "\n",
        "\n"
      ],
      "metadata": {
        "colab": {
          "base_uri": "https://localhost:8080/"
        },
        "id": "wIgBJYEpsGEf",
        "outputId": "3fc356c0-6e50-466e-d02b-e30ee734bada"
      },
      "execution_count": 28,
      "outputs": [
        {
          "output_type": "stream",
          "name": "stdout",
          "text": [
            "Enter any number, 0 to stop\n",
            "Enter only number\n"
          ]
        }
      ]
    },
    {
      "cell_type": "code",
      "source": [
        "def ex_five():\n",
        "  for item in range(1,11):\n",
        "    if item == 5:\n",
        "      continue\n",
        "    print(item,end=\" \")\n",
        "\n",
        "ex_five()"
      ],
      "metadata": {
        "colab": {
          "base_uri": "https://localhost:8080/"
        },
        "id": "yCUlhQSot8jW",
        "outputId": "cc4e045f-1867-468a-8c40-3c0cda3eb177"
      },
      "execution_count": 31,
      "outputs": [
        {
          "output_type": "stream",
          "name": "stdout",
          "text": [
            "1 2 3 4 6 7 8 9 10 "
          ]
        }
      ]
    },
    {
      "cell_type": "code",
      "source": [
        "def even_upto_N(number):\n",
        "  evnum = [x for x in range(number) if x % 2 == 0]\n",
        "  print(evnum)\n",
        "def main():\n",
        "  print(\"Enter limit\\n =>\")\n",
        "  number = int(input())\n",
        "  even_upto_N(number)\n",
        "main()"
      ],
      "metadata": {
        "colab": {
          "base_uri": "https://localhost:8080/"
        },
        "id": "RW0TyvKTuMME",
        "outputId": "74577810-52a0-4b02-aaba-10d51e3bc40f"
      },
      "execution_count": 34,
      "outputs": [
        {
          "output_type": "stream",
          "name": "stdout",
          "text": [
            "Enter limit\n",
            " =>\n",
            "10\n",
            "[0, 2, 4, 6, 8]\n"
          ]
        }
      ]
    },
    {
      "cell_type": "code",
      "source": [
        "def facttorial_N(number):\n",
        "  result = 1\n",
        "  while number >0:\n",
        "    result = result*number\n",
        "    number = number -1\n",
        "  print(result)\n",
        "def main():\n",
        "  print(\"Enter number\\n=>\")\n",
        "  number = int(input())\n",
        "  facttorial_N(number)\n",
        "main()"
      ],
      "metadata": {
        "colab": {
          "base_uri": "https://localhost:8080/"
        },
        "id": "go3jQexGxPMt",
        "outputId": "9dfac945-7b62-4405-dbbd-64e2e1dd0145"
      },
      "execution_count": 40,
      "outputs": [
        {
          "output_type": "stream",
          "name": "stdout",
          "text": [
            "Enter number\n",
            "=>\n",
            "2\n",
            "2\n"
          ]
        }
      ]
    },
    {
      "cell_type": "code",
      "source": [
        "def prime_check(number):\n",
        "  for item in range(2,number):\n",
        "      if number % item == 0:\n",
        "        return -1\n",
        "      return 0\n",
        "\n",
        "\n",
        "def is_prime():\n",
        "  print(\"Enter number\\n=>\")\n",
        "  number = int(input())\n",
        "\n",
        "  if number == 1:\n",
        "    print(\"prime\")\n",
        "    return\n",
        "  elif prime_check(number) == -1:\n",
        "    print(\"not prime\")\n",
        "    return\n",
        "  print(\"prime\")\n",
        "\n",
        "\n",
        "is_prime()\n"
      ],
      "metadata": {
        "colab": {
          "base_uri": "https://localhost:8080/"
        },
        "id": "R9QNC-qSx8t7",
        "outputId": "27eab140-bbb2-48fa-b062-6e6d016129c7"
      },
      "execution_count": 48,
      "outputs": [
        {
          "output_type": "stream",
          "name": "stdout",
          "text": [
            "Enter number\n",
            "=>\n",
            "100\n",
            "not prime\n"
          ]
        }
      ]
    },
    {
      "cell_type": "code",
      "source": [
        "def gen_fib():\n",
        "  print(\"Enter number\\n=>\")\n",
        "  limit = int(input())\n",
        "  first = 0\n",
        "  second = 1\n",
        "  print(first,end=\",\")\n",
        "  print(second,end=\",\")\n",
        "  third = first + second\n",
        "  while third <= limit:\n",
        "    print(third,end=\",\")\n",
        "    first = second\n",
        "    second = third\n",
        "    third = first + second\n",
        "\n",
        "gen_fib()\n",
        "\n"
      ],
      "metadata": {
        "colab": {
          "base_uri": "https://localhost:8080/"
        },
        "id": "qEBg2zsxzbWy",
        "outputId": "a5a86812-6e6d-411d-f0ec-7cd8aed9bc26"
      },
      "execution_count": 52,
      "outputs": [
        {
          "output_type": "stream",
          "name": "stdout",
          "text": [
            "Enter number\n",
            "=>\n",
            "50\n",
            "0,1,1,2,3,5,8,13,21,34,"
          ]
        }
      ]
    }
  ]
}